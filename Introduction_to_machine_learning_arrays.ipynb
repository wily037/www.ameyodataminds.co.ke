{
  "nbformat": 4,
  "nbformat_minor": 0,
  "metadata": {
    "colab": {
      "provenance": [],
      "authorship_tag": "ABX9TyMc/TeJsXpMyPJRZ8Z3kkW/",
      "include_colab_link": true
    },
    "kernelspec": {
      "name": "python3",
      "display_name": "Python 3"
    },
    "language_info": {
      "name": "python"
    }
  },
  "cells": [
    {
      "cell_type": "markdown",
      "metadata": {
        "id": "view-in-github",
        "colab_type": "text"
      },
      "source": [
        "<a href=\"https://colab.research.google.com/github/wily037/www.ameyodataminds.co.ke/blob/main/Introduction_to_machine_learning_arrays.ipynb\" target=\"_parent\"><img src=\"https://colab.research.google.com/assets/colab-badge.svg\" alt=\"Open In Colab\"/></a>"
      ]
    },
    {
      "cell_type": "code",
      "execution_count": 36,
      "metadata": {
        "colab": {
          "base_uri": "https://localhost:8080/"
        },
        "id": "ZVW5PTl_WtQa",
        "outputId": "2188ce72-dde7-4b4f-9250-e3474ca01b5e"
      },
      "outputs": [
        {
          "output_type": "stream",
          "name": "stdout",
          "text": [
            "[[[1 2 3]\n",
            "  [4 5 6]\n",
            "  [6 7 8]]]\n",
            "6\n",
            "3\n",
            "(1, 3, 3)\n",
            "9\n",
            "72\n",
            "int64\n"
          ]
        }
      ],
      "source": [
        "import numpy as np\n",
        "#single dimensional array\n",
        "Array1=np.array([1,2,3,4])\n",
        "#print(Array1)\n",
        "# 2-dimensional array\n",
        "Array2=np.array([[1,2,3],[4,5,6]])\n",
        "#print(Array2)\n",
        "#3-dimensional array\n",
        "Array3=np.array([[[1,2,3],[4,5,6],[6,7,8]]])\n",
        "print(Array3)\n",
        "# Indexing of arrays\n",
        "#print(Array3[0,0,0])\n",
        "#print(Array3[0,1,2])\n",
        "#print(Array3[0,2,2])\n",
        "print(Array3[0,1,2])\n",
        "# PROPERTIES OF ARRAYS\n",
        "print(Array3.ndim)\n",
        "# the shape of the array\n",
        "print(Array3.shape)\n",
        "#The number of elements in the array\n",
        "print(Array3.size)\n",
        "#the size of storage space required to store the array\n",
        "print(Array3.nbytes)\n",
        "print(Array3.dtype)"
      ]
    }
  ]
}